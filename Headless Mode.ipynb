{
 "cells": [
  {
   "cell_type": "code",
   "execution_count": 1,
   "id": "a093db9b",
   "metadata": {},
   "outputs": [],
   "source": [
    "from selenium import webdriver\n",
    "from selenium.webdriver.firefox.options import Options\n",
    "import pandas as pd"
   ]
  },
  {
   "cell_type": "code",
   "execution_count": 2,
   "id": "0936d4af",
   "metadata": {},
   "outputs": [],
   "source": [
    "# Headless mode\n",
    "options = Options()  # Initialize an instance of the Options class\n",
    "options.headless = True  # True -> Headless mode activated\n",
    "options.add_argument('window-size=1920x1080')  # Set a big window size, so all the data will be displayed"
   ]
  },
  {
   "cell_type": "code",
   "execution_count": 3,
   "id": "bf51164f",
   "metadata": {},
   "outputs": [
    {
     "name": "stderr",
     "output_type": "stream",
     "text": [
      "<ipython-input-3-7662684b0e6e>:2: DeprecationWarning: executable_path has been deprecated, please pass in a Service object\n",
      "  driver = webdriver.Firefox(executable_path = r'C:\\webdrivers\\geckodriver.exe')\n"
     ]
    }
   ],
   "source": [
    "website = \"https://www.audible.com/search\"\n",
    "driver = webdriver.Firefox(executable_path = r'C:\\webdrivers\\geckodriver.exe')\n",
    "driver.get(website)\n",
    "# driver.maximize_window()"
   ]
  },
  {
   "cell_type": "code",
   "execution_count": 4,
   "id": "a991faf7",
   "metadata": {},
   "outputs": [
    {
     "name": "stderr",
     "output_type": "stream",
     "text": [
      "<ipython-input-4-e2ce485ec541>:1: DeprecationWarning: find_element_by_class_name is deprecated. Please use find_element(by=By.CLASS_NAME, value=name) instead\n",
      "  container = driver.find_element_by_class_name('adbl-impression-container ')\n",
      "C:\\ProgramData\\Anaconda3\\lib\\site-packages\\selenium\\webdriver\\remote\\webelement.py:426: UserWarning: find_elements_by_xpath is deprecated. Please use find_elements(by=By.XPATH, value=xpath) instead\n",
      "  warnings.warn(\"find_elements_by_xpath is deprecated. Please use find_elements(by=By.XPATH, value=xpath) instead\")\n"
     ]
    }
   ],
   "source": [
    "container = driver.find_element_by_class_name('adbl-impression-container ')\n",
    "products = container.find_elements_by_xpath('./li')"
   ]
  },
  {
   "cell_type": "code",
   "execution_count": 5,
   "id": "a684730b",
   "metadata": {},
   "outputs": [
    {
     "name": "stderr",
     "output_type": "stream",
     "text": [
      "C:\\ProgramData\\Anaconda3\\lib\\site-packages\\selenium\\webdriver\\remote\\webelement.py:393: UserWarning: find_element_by_xpath is deprecated. Please use find_element(by=By.XPATH, value=xpath) instead\n",
      "  warnings.warn(\"find_element_by_xpath is deprecated. Please use find_element(by=By.XPATH, value=xpath) instead\")\n"
     ]
    },
    {
     "name": "stdout",
     "output_type": "stream",
     "text": [
      "Anything\n",
      "One Damn Thing After Another\n",
      "Things We Never Got Over\n",
      "The Great Reset\n",
      "The Last Eligible Billionaire\n",
      "You, Happier\n",
      "Relics of Utopia\n",
      "Wild Irish Rose\n",
      "Fairy Tale\n",
      "Happy-Go-Lucky\n",
      "The War of Two Queens\n",
      "Nautical Noobs\n",
      "Liar's Poker\n",
      "The Fort\n",
      "Confidence Man\n",
      "Aliens vs. Predators: Ultimate Prey\n",
      "Allow Me to Retort\n",
      "The Kaiju Preservation Society\n",
      "The Rake\n",
      "Critical Failures IX\n"
     ]
    }
   ],
   "source": [
    "book_title = []\n",
    "book_author = []\n",
    "book_length = []\n",
    "\n",
    "for product in products:\n",
    "    \n",
    "    # In headless mode we won't see the bot scraping the website, so print any element to check the progress\n",
    "    title = product.find_element_by_xpath('.//h3[contains(@class, \"bc-heading\")]').text\n",
    "    book_title.append(title)\n",
    "    print(title)\n",
    "    book_author.append(product.find_element_by_xpath('.//li[contains(@class, \"authorLabel\")]').text)\n",
    "    book_length.append(product.find_element_by_xpath('.//li[contains(@class, \"runtimeLabel\")]').text)\n",
    "\n",
    "driver.quit()"
   ]
  },
  {
   "cell_type": "code",
   "execution_count": 6,
   "id": "54c3e997",
   "metadata": {},
   "outputs": [],
   "source": [
    "df_books = pd.DataFrame({'title': book_title, 'author': book_author, 'length': book_length})\n",
    "df_books.to_csv('books_headless_mode.csv', index=False)"
   ]
  },
  {
   "cell_type": "code",
   "execution_count": null,
   "id": "5493e892",
   "metadata": {},
   "outputs": [],
   "source": []
  }
 ],
 "metadata": {
  "kernelspec": {
   "display_name": "Python 3",
   "language": "python",
   "name": "python3"
  },
  "language_info": {
   "codemirror_mode": {
    "name": "ipython",
    "version": 3
   },
   "file_extension": ".py",
   "mimetype": "text/x-python",
   "name": "python",
   "nbconvert_exporter": "python",
   "pygments_lexer": "ipython3",
   "version": "3.8.8"
  }
 },
 "nbformat": 4,
 "nbformat_minor": 5
}
