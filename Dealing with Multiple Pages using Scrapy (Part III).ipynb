{
 "cells": [
  {
   "cell_type": "code",
   "execution_count": 1,
   "id": "858de3f9",
   "metadata": {},
   "outputs": [],
   "source": [
    "import scrapy"
   ]
  },
  {
   "cell_type": "code",
   "execution_count": 2,
   "id": "ea5aadb3",
   "metadata": {},
   "outputs": [],
   "source": [
    "class AudibleSpider(scrapy.Spider):\n",
    "    name = 'audible'\n",
    "    allowed_domains = ['www.audible.com']\n",
    "    start_urls = ['https://www.audible.com/search/']\n",
    "\n",
    "    def start_requests(self):\n",
    "        # Editing the default headers (user-agent)\n",
    "        yield scrapy.Request(url='https://www.audible.com/search/', callback=self.parse,\n",
    "                       headers={'User-Agent':'Mozilla/5.0 (Macintosh; Intel Mac OS X 10_15_0) AppleWebKit/537.36 (KHTML, like Gecko) Chrome/91.0.4472.114 Safari/537.36'})\n",
    "\n",
    "    def parse(self, response):\n",
    "        # Getting the box that contains all the info we want (title, author, length)\n",
    "        product_container = response.xpath('//div[@class=\"adbl-impression-container \"]/li')\n",
    "\n",
    "        # Looping through each product listed in the product_container box\n",
    "        for product in product_container:\n",
    "            book_title = product.xpath('.//h3[contains(@class , \"bc-heading\")]/a/text()').get()\n",
    "            book_author = product.xpath('.//li[contains(@class , \"authorLabel\")]/span/a/text()').getall()\n",
    "            book_length = product.xpath('.//li[contains(@class , \"runtimeLabel\")]/span/text()').get()\n",
    "\n",
    "            # Return data extracted and also the user-agent defined before\n",
    "            yield {\n",
    "                'title':book_title,\n",
    "                'author':book_author,\n",
    "                'length':book_length,\n",
    "                'User-Agent':response.request.headers['User-Agent'],\n",
    "            }\n",
    "\n",
    "        # Getting the pagination bar (pagination) and then the link within the next page button (next_page_url)\n",
    "        pagination = response.xpath('//ul[contains(@class , \"pagingElements\")]')\n",
    "        next_page_url = pagination.xpath('.//span[contains(@class , \"nextButton\")]/a/@href').get()\n",
    "\n",
    "        # Going to the \"next_page_url\" link using the user-agent defined before\n",
    "        if next_page_url:\n",
    "            yield response.follow(url=next_page_url, callback=self.parse,\n",
    "                                  headers={'User-Agent':'Mozilla/5.0 (Macintosh; Intel Mac OS X 10_15_0) AppleWebKit/537.36 (KHTML, like Gecko) Chrome/91.0.4472.114 Safari/537.36'})"
   ]
  },
  {
   "cell_type": "code",
   "execution_count": null,
   "id": "a2330d1d",
   "metadata": {},
   "outputs": [],
   "source": []
  }
 ],
 "metadata": {
  "kernelspec": {
   "display_name": "Python 3",
   "language": "python",
   "name": "python3"
  },
  "language_info": {
   "codemirror_mode": {
    "name": "ipython",
    "version": 3
   },
   "file_extension": ".py",
   "mimetype": "text/x-python",
   "name": "python",
   "nbconvert_exporter": "python",
   "pygments_lexer": "ipython3",
   "version": "3.8.8"
  }
 },
 "nbformat": 4,
 "nbformat_minor": 5
}
