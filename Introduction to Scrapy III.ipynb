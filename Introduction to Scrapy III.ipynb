{
 "cells": [
  {
   "cell_type": "code",
   "execution_count": 1,
   "id": "b05df2f0",
   "metadata": {},
   "outputs": [],
   "source": [
    "import scrapy\n",
    "from scrapy.crawler import CrawlerProcess"
   ]
  },
  {
   "cell_type": "code",
   "execution_count": 2,
   "id": "50fd9a56",
   "metadata": {},
   "outputs": [],
   "source": [
    "class WorldometersSpider(scrapy.Spider):\n",
    "    name = 'worldometers'\n",
    "    allowed_domains = ['www.worldometers.info']\n",
    "    start_urls = ['https://www.worldometers.info/world-population/population-by-country/']\n",
    "\n",
    "    def parse(self, response):\n",
    "        # Extracting \"a\" elements for each country\n",
    "        countries = response.xpath('//td/a')\n",
    "\n",
    "        # Looping through the countries list\n",
    "        for country in countries:\n",
    "            country_name = country.xpath(\".//text()\").get()\n",
    "            link = country.xpath(\".//@href\").get()\n",
    "\n",
    "            # Absolute URL\n",
    "            # absolute_url = f'https://www.worldometers.info/{link}'  # concatenating links with f-string\n",
    "            # absolute_url = response.urljoin(link)  # concatenating links with urljoin\n",
    "            # yield scrapy.Request(url=absolute_url) # sending a request with the absolute url\n",
    "\n",
    "            # Return relative URL\n",
    "            yield response.follow(url=link)  # sending a request with the relative url"
   ]
  },
  {
   "cell_type": "code",
   "execution_count": null,
   "id": "21bae025",
   "metadata": {},
   "outputs": [],
   "source": [
    "process = CrawlerProcess({\n",
    "    'USER_AGENT': 'Mozilla/4.0 (compatible; MSIE 7.0; Windows NT 5.1)'\n",
    "})\n",
    "\n",
    "process.crawl(WorldometersSpider)\n",
    "process.start()"
   ]
  }
 ],
 "metadata": {
  "kernelspec": {
   "display_name": "Python 3",
   "language": "python",
   "name": "python3"
  },
  "language_info": {
   "codemirror_mode": {
    "name": "ipython",
    "version": 3
   },
   "file_extension": ".py",
   "mimetype": "text/x-python",
   "name": "python",
   "nbconvert_exporter": "python",
   "pygments_lexer": "ipython3",
   "version": "3.8.8"
  }
 },
 "nbformat": 4,
 "nbformat_minor": 5
}
