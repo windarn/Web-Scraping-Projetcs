{
 "cells": [
  {
   "cell_type": "code",
   "execution_count": 1,
   "id": "cba556e3",
   "metadata": {},
   "outputs": [],
   "source": [
    "from selenium import webdriver\n",
    "import pandas as pd"
   ]
  },
  {
   "cell_type": "code",
   "execution_count": 2,
   "id": "1705ef4b",
   "metadata": {},
   "outputs": [
    {
     "name": "stderr",
     "output_type": "stream",
     "text": [
      "<ipython-input-2-6eb2123c840f>:2: DeprecationWarning: executable_path has been deprecated, please pass in a Service object\n",
      "  driver = webdriver.Firefox(executable_path = r'C:\\webdrivers\\geckodriver.exe')\n"
     ]
    }
   ],
   "source": [
    "website = \"https://www.audible.com/search\"\n",
    "driver = webdriver.Firefox(executable_path = r'C:\\webdrivers\\geckodriver.exe')\n",
    "driver.get(website)\n",
    "driver.maximize_window()"
   ]
  },
  {
   "cell_type": "markdown",
   "id": "8b757b18",
   "metadata": {},
   "source": [
    "# Locating the box that contains all the audiobooks listed in the page"
   ]
  },
  {
   "cell_type": "code",
   "execution_count": 3,
   "id": "48a73b94",
   "metadata": {},
   "outputs": [
    {
     "name": "stderr",
     "output_type": "stream",
     "text": [
      "<ipython-input-3-5323dade34e6>:1: DeprecationWarning: find_element_by_class_name is deprecated. Please use find_element(by=By.CLASS_NAME, value=name) instead\n",
      "  container = driver.find_element_by_class_name('adbl-impression-container ')\n"
     ]
    }
   ],
   "source": [
    "container = driver.find_element_by_class_name('adbl-impression-container ')"
   ]
  },
  {
   "cell_type": "code",
   "execution_count": 4,
   "id": "08116df2",
   "metadata": {},
   "outputs": [
    {
     "name": "stderr",
     "output_type": "stream",
     "text": [
      "C:\\ProgramData\\Anaconda3\\lib\\site-packages\\selenium\\webdriver\\remote\\webelement.py:426: UserWarning: find_elements_by_xpath is deprecated. Please use find_elements(by=By.XPATH, value=xpath) instead\n",
      "  warnings.warn(\"find_elements_by_xpath is deprecated. Please use find_elements(by=By.XPATH, value=xpath) instead\")\n"
     ]
    }
   ],
   "source": [
    "# Getting all the audiobooks listed (the \"/\" gives immediate child nodes)\n",
    "products = container.find_elements_by_xpath('./li')"
   ]
  },
  {
   "cell_type": "markdown",
   "id": "3f9efdc7",
   "metadata": {},
   "source": [
    "# Initializing storage"
   ]
  },
  {
   "cell_type": "code",
   "execution_count": 5,
   "id": "24db6ab0",
   "metadata": {},
   "outputs": [],
   "source": [
    "book_title = []\n",
    "book_author = []\n",
    "book_length = []"
   ]
  },
  {
   "cell_type": "markdown",
   "id": "f7a04bbb",
   "metadata": {},
   "source": [
    "# Looping through the products list (each \"product\" is an audiobook)"
   ]
  },
  {
   "cell_type": "code",
   "execution_count": 6,
   "id": "390fe938",
   "metadata": {},
   "outputs": [
    {
     "name": "stderr",
     "output_type": "stream",
     "text": [
      "C:\\ProgramData\\Anaconda3\\lib\\site-packages\\selenium\\webdriver\\remote\\webelement.py:393: UserWarning: find_element_by_xpath is deprecated. Please use find_element(by=By.XPATH, value=xpath) instead\n",
      "  warnings.warn(\"find_element_by_xpath is deprecated. Please use find_element(by=By.XPATH, value=xpath) instead\")\n"
     ]
    }
   ],
   "source": [
    "for product in products:\n",
    "    # We use \"contains\" to search for web elements that contain a particular text, so we avoid building long XPATH\n",
    "    book_title.append(product.find_element_by_xpath('.//h3[contains(@class, \"bc-heading\")]').text)  # Storing data in list\n",
    "    book_author.append(product.find_element_by_xpath('.//li[contains(@class, \"authorLabel\")]').text)\n",
    "    book_length.append(product.find_element_by_xpath('.//li[contains(@class, \"runtimeLabel\")]').text)\n",
    "driver.quit()"
   ]
  },
  {
   "cell_type": "code",
   "execution_count": 7,
   "id": "bfed874d",
   "metadata": {},
   "outputs": [],
   "source": [
    "# Storing the data into a DataFrame and exporting to a csv file\n",
    "df_books = pd.DataFrame({'title': book_title, 'author': book_author, 'length': book_length})\n",
    "df_books.to_csv('books.csv', index=False)"
   ]
  },
  {
   "cell_type": "code",
   "execution_count": null,
   "id": "e1aa915f",
   "metadata": {},
   "outputs": [],
   "source": []
  }
 ],
 "metadata": {
  "kernelspec": {
   "display_name": "Python 3",
   "language": "python",
   "name": "python3"
  },
  "language_info": {
   "codemirror_mode": {
    "name": "ipython",
    "version": 3
   },
   "file_extension": ".py",
   "mimetype": "text/x-python",
   "name": "python",
   "nbconvert_exporter": "python",
   "pygments_lexer": "ipython3",
   "version": "3.8.8"
  }
 },
 "nbformat": 4,
 "nbformat_minor": 5
}
