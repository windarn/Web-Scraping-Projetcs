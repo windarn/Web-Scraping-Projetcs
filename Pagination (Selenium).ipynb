{
 "cells": [
  {
   "cell_type": "code",
   "execution_count": 1,
   "id": "5fcf956e",
   "metadata": {},
   "outputs": [],
   "source": [
    "from selenium import webdriver\n",
    "import pandas as pd\n",
    "import time"
   ]
  },
  {
   "cell_type": "code",
   "execution_count": 2,
   "id": "5a595413",
   "metadata": {},
   "outputs": [
    {
     "name": "stderr",
     "output_type": "stream",
     "text": [
      "<ipython-input-2-73f8f5186206>:4: DeprecationWarning: executable_path has been deprecated, please pass in a Service object\n",
      "  driver = webdriver.Firefox(executable_path = r'C:\\webdrivers\\geckodriver.exe')\n"
     ]
    }
   ],
   "source": [
    "# The first website has 5 pages while the second has 60. Test the code with any of them\n",
    "website = \"https://www.audible.com/adblbestsellers?ref=a_search_t1_navTop_pl0cg1c0r0&pf_rd_p=adc4b13b-d074-4e1c-ac46-9f54aa53072b&pf_rd_r=1F7DV0MPHV77Z61RX566\"\n",
    "# web = \"https://www.audible.com/search\"\n",
    "driver = webdriver.Firefox(executable_path = r'C:\\webdrivers\\geckodriver.exe')\n",
    "driver.get(website)\n",
    "driver.maximize_window()"
   ]
  },
  {
   "cell_type": "markdown",
   "id": "f4179a66",
   "metadata": {},
   "source": [
    "## Pagination 1"
   ]
  },
  {
   "cell_type": "code",
   "execution_count": 3,
   "id": "86ebfe12",
   "metadata": {},
   "outputs": [
    {
     "name": "stderr",
     "output_type": "stream",
     "text": [
      "<ipython-input-3-ccec7fb2f216>:1: DeprecationWarning: find_element_by_xpath is deprecated. Please use find_element(by=By.XPATH, value=xpath) instead\n",
      "  pagination = driver.find_element_by_xpath('//ul[contains(@class, \"pagingElements\")]')  # locating pagination bar\n",
      "C:\\ProgramData\\Anaconda3\\lib\\site-packages\\selenium\\webdriver\\remote\\webelement.py:359: UserWarning: find_elements_by_tag_name is deprecated. Please use find_elements(by=By.TAG_NAME, value=name) instead\n",
      "  warnings.warn(\"find_elements_by_tag_name is deprecated. Please use find_elements(by=By.TAG_NAME, value=name) instead\")\n"
     ]
    }
   ],
   "source": [
    "pagination = driver.find_element_by_xpath('//ul[contains(@class, \"pagingElements\")]')  # locating pagination bar\n",
    "pages = pagination.find_elements_by_tag_name('li')  # locating each page displayed in the pagination bar\n",
    "last_page = int(pages[-2].text)  # getting the last page with negative indexing (starts from where the array ends)"
   ]
  },
  {
   "cell_type": "code",
   "execution_count": 4,
   "id": "f386b43c",
   "metadata": {},
   "outputs": [],
   "source": [
    "book_title = []\n",
    "book_author = []\n",
    "book_length = []"
   ]
  },
  {
   "cell_type": "markdown",
   "id": "bfed7b10",
   "metadata": {},
   "source": [
    "## Pagination 2"
   ]
  },
  {
   "cell_type": "code",
   "execution_count": 5,
   "id": "585ad2a2",
   "metadata": {},
   "outputs": [
    {
     "name": "stderr",
     "output_type": "stream",
     "text": [
      "<ipython-input-5-64c06e2db484>:6: DeprecationWarning: find_element_by_class_name is deprecated. Please use find_element(by=By.CLASS_NAME, value=name) instead\n",
      "  container = driver.find_element_by_class_name('adbl-impression-container ')\n",
      "C:\\ProgramData\\Anaconda3\\lib\\site-packages\\selenium\\webdriver\\remote\\webelement.py:426: UserWarning: find_elements_by_xpath is deprecated. Please use find_elements(by=By.XPATH, value=xpath) instead\n",
      "  warnings.warn(\"find_elements_by_xpath is deprecated. Please use find_elements(by=By.XPATH, value=xpath) instead\")\n",
      "C:\\ProgramData\\Anaconda3\\lib\\site-packages\\selenium\\webdriver\\remote\\webelement.py:393: UserWarning: find_element_by_xpath is deprecated. Please use find_element(by=By.XPATH, value=xpath) instead\n",
      "  warnings.warn(\"find_element_by_xpath is deprecated. Please use find_element(by=By.XPATH, value=xpath) instead\")\n",
      "<ipython-input-5-64c06e2db484>:17: DeprecationWarning: find_element_by_xpath is deprecated. Please use find_element(by=By.XPATH, value=xpath) instead\n",
      "  next_page = driver.find_element_by_xpath('.//span[contains(@class , \"nextButton\")]')\n"
     ]
    }
   ],
   "source": [
    "current_page = 1   # this is the page the bot starts scraping\n",
    "\n",
    "# The while loop below will work until the the bot reaches the last page of the website, then it will break\n",
    "while current_page <= last_page:\n",
    "    time.sleep(2)  # let the page render correctly\n",
    "    container = driver.find_element_by_class_name('adbl-impression-container ')\n",
    "    products = container.find_elements_by_xpath('./li')\n",
    "\n",
    "    for product in products:\n",
    "        book_title.append(product.find_element_by_xpath('.//h3[contains(@class, \"bc-heading\")]').text)\n",
    "        book_author.append(product.find_element_by_xpath('.//li[contains(@class, \"authorLabel\")]').text)\n",
    "        book_length.append(product.find_element_by_xpath('.//li[contains(@class, \"runtimeLabel\")]').text)\n",
    "\n",
    "    current_page = current_page + 1  # increment the current_page by 1 after the data is extracted\n",
    "    # Locating the next_page button and clicking on it. If the element isn't on the website, pass to the next iteration\n",
    "    try:\n",
    "        next_page = driver.find_element_by_xpath('.//span[contains(@class , \"nextButton\")]')\n",
    "        next_page.click()\n",
    "    except:\n",
    "        pass\n",
    "\n",
    "driver.quit()"
   ]
  },
  {
   "cell_type": "code",
   "execution_count": 6,
   "id": "01481981",
   "metadata": {},
   "outputs": [],
   "source": [
    "df_books = pd.DataFrame({'title': book_title, 'author': book_author, 'length': book_length})\n",
    "df_books.to_csv('books_pagination.csv', index=False)"
   ]
  },
  {
   "cell_type": "code",
   "execution_count": null,
   "id": "12c7e147",
   "metadata": {},
   "outputs": [],
   "source": []
  }
 ],
 "metadata": {
  "kernelspec": {
   "display_name": "Python 3",
   "language": "python",
   "name": "python3"
  },
  "language_info": {
   "codemirror_mode": {
    "name": "ipython",
    "version": 3
   },
   "file_extension": ".py",
   "mimetype": "text/x-python",
   "name": "python",
   "nbconvert_exporter": "python",
   "pygments_lexer": "ipython3",
   "version": "3.8.8"
  }
 },
 "nbformat": 4,
 "nbformat_minor": 5
}
